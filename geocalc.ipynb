{
  "nbformat": 4,
  "nbformat_minor": 0,
  "metadata": {
    "colab": {
      "name": "Untitled2.ipynb",
      "provenance": [],
      "authorship_tag": "ABX9TyM1P0jywGPsT1B+tfuqpF/t",
      "include_colab_link": true
    },
    "kernelspec": {
      "name": "python3",
      "display_name": "Python 3"
    },
    "language_info": {
      "name": "python"
    }
  },
  "cells": [
    {
      "cell_type": "markdown",
      "metadata": {
        "id": "view-in-github",
        "colab_type": "text"
      },
      "source": [
        "<a href=\"https://colab.research.google.com/github/ramosbrp/geocalc/blob/main/geocalc.ipynb\" target=\"_parent\"><img src=\"https://colab.research.google.com/assets/colab-badge.svg\" alt=\"Open In Colab\"/></a>"
      ]
    },
    {
      "cell_type": "code",
      "execution_count": 176,
      "metadata": {
        "colab": {
          "base_uri": "https://localhost:8080/",
          "height": 323
        },
        "id": "1C0VaUgORUq3",
        "outputId": "c35b7322-f27f-4cbf-e373-469562b71b17"
      },
      "outputs": [
        {
          "output_type": "stream",
          "name": "stdout",
          "text": [
            "Reta de regressão: y = 14.93X+250.67\n",
            "Coeficiente de correlação: r = 1.00\n",
            "y\n"
          ]
        },
        {
          "output_type": "display_data",
          "data": {
            "text/plain": [
              "<Figure size 432x288 with 1 Axes>"
            ],
            "image/png": "[encoded data removed]"
          },
          "metadata": {
            "needs_background": "light"
          }
        }
      ],
      "source": [
        "import matplotlib.pyplot as plt\n",
        "import numpy as np\n",
        "from sympy import *\n",
        "from scipy import stats\n",
        "\n",
        "#regressao\n",
        "xr = np.array([10, 25])\n",
        "yr = np.array([400, 624])\n",
        "a, b, correlacao, p, erro = stats.linregress(xr,yr)\n",
        "print('Reta de regressão: y = %.2fX+%.2f'% (a, b))\n",
        "print('Coeficiente de correlação: r = %.2f'% correlacao)\n",
        "plt.plot(xr,yr, label = 'Dados originais')\n",
        "f = a*xr+b\n",
        "plt.plot(xr,f, label = 'Reta de regressão')\n",
        "\n",
        "\n",
        "x = np.linspace(-0,500,1000)\n",
        "y = -x**2 + 50*x\n",
        "y2 = 40*x\n",
        "y3 = 25*x\n",
        "\n",
        "plt.xlim(0,60) #limite da escala x\n",
        "plt.ylim(0,800) #limite da escala y\n",
        "plt.plot(x, y)\n",
        "plt.plot(x, y2)\n",
        "plt.plot(x, y3)\n",
        "plt.show\n",
        "\n",
        "x,y = symbols(\"x y\")\n",
        "resultado = y.subs(x, 10)\n",
        "print(resultado)\n",
        "\n"
      ]
    },
    {
      "cell_type": "code",
      "source": [
        "\n",
        "#Aula 02\n",
        "from sympy import *\n",
        "import numpy as np\n",
        "import matplotlib.pyplot as plt\n",
        "\n",
        "\n",
        "\n",
        "def funcao(x0):\n",
        "  x, y, fy = symbols(\"x y fy\")\n",
        "  fy = -x**2 + 50*x\n",
        "  y0 = fy.subs(x, x0)\n",
        "  return y0\n",
        "\n",
        "x0 = 10\n",
        "\n",
        "print('x0: {}' .format(x0))\n",
        "y0 = funcao(x0)\n",
        "print('y0 : {} \\n' .format(y0))\n",
        "\n",
        "s = 0\n",
        "\n",
        "\n",
        "for i in range(11, 26):\n",
        "\n",
        "  x1 = i\n",
        "  print('x1: {}' .format(x1))\n",
        "  y1 = funcao(x1)\n",
        "  print('y1: {} \\n' .format(y1))\n",
        "\n",
        "  #Delta x e delta y\n",
        "  x = x1-x0\n",
        "  print('Delta X: {}' .format(x))\n",
        "  y = y1-y0\n",
        "  print('Delta Y: {}' .format(y))\n",
        "\n",
        "  #Pitágoras\n",
        "  pit = (x**2 + y**2)**(1/2)\n",
        "  print('resultado pitagoras: {}' .format(pit))\n",
        "\n",
        "  #Comprimento\n",
        "  s = s+pit\n",
        "  print('delta s: {}' .format(s))\n",
        "\n",
        "  #\n",
        "  x0 = x1\n",
        "  print('x0 recebe x1: {} \\n ______________' .format(x0))\n",
        "  y0 = y1\n",
        "  print('y0 recebe y1: {} \\n ______________' .format(y0))\n",
        "\n",
        "  \n"
      ],
      "metadata": {
        "colab": {
          "base_uri": "https://localhost:8080/"
        },
        "id": "YfnQLjg8YGTN",
        "outputId": "6399ec25-f1a1-4ae3-f29f-68967749ea33"
      },
      "execution_count": 218,
      "outputs": [
        {
          "output_type": "stream",
          "name": "stdout",
          "text": [
            "x0: 10\n",
            "y0 : 400 \n",
            "\n",
            "x1: 11\n",
            "y1: 429 \n",
            "\n",
            "Delta X: 1\n",
            "Delta Y: 29\n",
            "resultado pitagoras: 29.0172362570938\n",
            "delta s: 29.0172362570938\n",
            "x0 recebe x1: 11 \n",
            " ______________\n",
            "y0 recebe y1: 429 \n",
            " ______________\n",
            "x1: 12\n",
            "y1: 456 \n",
            "\n",
            "Delta X: 1\n",
            "Delta Y: 27\n",
            "resultado pitagoras: 27.0185121722126\n",
            "delta s: 56.0357484293064\n",
            "x0 recebe x1: 12 \n",
            " ______________\n",
            "y0 recebe y1: 456 \n",
            " ______________\n",
            "x1: 13\n",
            "y1: 481 \n",
            "\n",
            "Delta X: 1\n",
            "Delta Y: 25\n",
            "resultado pitagoras: 25.0199920063936\n",
            "delta s: 81.0557404357000\n",
            "x0 recebe x1: 13 \n",
            " ______________\n",
            "y0 recebe y1: 481 \n",
            " ______________\n",
            "x1: 14\n",
            "y1: 504 \n",
            "\n",
            "Delta X: 1\n",
            "Delta Y: 23\n",
            "resultado pitagoras: 23.0217288664427\n",
            "delta s: 104.077469302143\n",
            "x0 recebe x1: 14 \n",
            " ______________\n",
            "y0 recebe y1: 504 \n",
            " ______________\n",
            "x1: 15\n",
            "y1: 525 \n",
            "\n",
            "Delta X: 1\n",
            "Delta Y: 21\n",
            "resultado pitagoras: 21.0237960416286\n",
            "delta s: 125.101265343771\n",
            "x0 recebe x1: 15 \n",
            " ______________\n",
            "y0 recebe y1: 525 \n",
            " ______________\n",
            "x1: 16\n",
            "y1: 544 \n",
            "\n",
            "Delta X: 1\n",
            "Delta Y: 19\n",
            "resultado pitagoras: 19.0262975904404\n",
            "delta s: 144.127562934212\n",
            "x0 recebe x1: 16 \n",
            " ______________\n",
            "y0 recebe y1: 544 \n",
            " ______________\n",
            "x1: 17\n",
            "y1: 561 \n",
            "\n",
            "Delta X: 1\n",
            "Delta Y: 17\n",
            "resultado pitagoras: 17.0293863659264\n",
            "delta s: 161.156949300138\n",
            "x0 recebe x1: 17 \n",
            " ______________\n",
            "y0 recebe y1: 561 \n",
            " ______________\n",
            "x1: 18\n",
            "y1: 576 \n",
            "\n",
            "Delta X: 1\n",
            "Delta Y: 15\n",
            "resultado pitagoras: 15.0332963783729\n",
            "delta s: 176.190245678511\n",
            "x0 recebe x1: 18 \n",
            " ______________\n",
            "y0 recebe y1: 576 \n",
            " ______________\n",
            "x1: 19\n",
            "y1: 589 \n",
            "\n",
            "Delta X: 1\n",
            "Delta Y: 13\n",
            "resultado pitagoras: 13.0384048104053\n",
            "delta s: 189.228650488916\n",
            "x0 recebe x1: 19 \n",
            " ______________\n",
            "y0 recebe y1: 589 \n",
            " ______________\n",
            "x1: 20\n",
            "y1: 600 \n",
            "\n",
            "Delta X: 1\n",
            "Delta Y: 11\n",
            "resultado pitagoras: 11.0453610171873\n",
            "delta s: 200.274011506104\n",
            "x0 recebe x1: 20 \n",
            " ______________\n",
            "y0 recebe y1: 600 \n",
            " ______________\n",
            "x1: 21\n",
            "y1: 609 \n",
            "\n",
            "Delta X: 1\n",
            "Delta Y: 9\n",
            "resultado pitagoras: 9.05538513813742\n",
            "delta s: 209.329396644241\n",
            "x0 recebe x1: 21 \n",
            " ______________\n",
            "y0 recebe y1: 609 \n",
            " ______________\n",
            "x1: 22\n",
            "y1: 616 \n",
            "\n",
            "Delta X: 1\n",
            "Delta Y: 7\n",
            "resultado pitagoras: 7.07106781186548\n",
            "delta s: 216.400464456107\n",
            "x0 recebe x1: 22 \n",
            " ______________\n",
            "y0 recebe y1: 616 \n",
            " ______________\n",
            "x1: 23\n",
            "y1: 621 \n",
            "\n",
            "Delta X: 1\n",
            "Delta Y: 5\n",
            "resultado pitagoras: 5.09901951359278\n",
            "delta s: 221.499483969699\n",
            "x0 recebe x1: 23 \n",
            " ______________\n",
            "y0 recebe y1: 621 \n",
            " ______________\n",
            "x1: 24\n",
            "y1: 624 \n",
            "\n",
            "Delta X: 1\n",
            "Delta Y: 3\n",
            "resultado pitagoras: 3.16227766016838\n",
            "delta s: 224.661761629868\n",
            "x0 recebe x1: 24 \n",
            " ______________\n",
            "y0 recebe y1: 624 \n",
            " ______________\n",
            "x1: 25\n",
            "y1: 625 \n",
            "\n",
            "Delta X: 1\n",
            "Delta Y: 1\n",
            "resultado pitagoras: 1.41421356237310\n",
            "delta s: 226.075975192241\n",
            "x0 recebe x1: 25 \n",
            " ______________\n",
            "y0 recebe y1: 625 \n",
            " ______________\n"
          ]
        }
      ]
    },
    {
      "cell_type": "code",
      "source": [
        "\n",
        "print((15**2 + 225**2)**(1/2))"
      ],
      "metadata": {
        "colab": {
          "base_uri": "https://localhost:8080/"
        },
        "id": "4_9FxiZCBtTH",
        "outputId": "37ba1900-1b93-48a6-bb19-041b704eedc6"
      },
      "execution_count": 215,
      "outputs": [
        {
          "output_type": "stream",
          "name": "stdout",
          "text": [
            "225.49944567559362\n"
          ]
        }
      ]
    },
    {
      "cell_type": "code",
      "source": [
        "from sympy import *\n",
        "import numpy as np\n",
        "import matplotlib.pyplot as plt\n",
        "\n",
        "x, y = symbols(\"x y\")\n",
        "y = -x**2 + 50*x\n",
        "\n",
        "\n",
        "y0 = y.subs(x, 25)\n",
        "print(y0)"
      ],
      "metadata": {
        "colab": {
          "base_uri": "https://localhost:8080/"
        },
        "id": "NNZEmk4hB7Yr",
        "outputId": "e8474868-755b-49fe-d561-d0e27ad9d10d"
      },
      "execution_count": 213,
      "outputs": [
        {
          "output_type": "stream",
          "name": "stdout",
          "text": [
            "4\n"
          ]
        }
      ]
    }
  ]
}